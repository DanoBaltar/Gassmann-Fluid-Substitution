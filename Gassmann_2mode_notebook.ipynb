{
 "cells": [
  {
   "cell_type": "markdown",
   "id": "25a40151",
   "metadata": {},
   "source": [
    "# Gassmann Fluid Substitution Workflow"
   ]
  },
  {
   "cell_type": "markdown",
   "id": "c72a0f3e",
   "metadata": {},
   "source": [
    "## Introduction\n",
    "\n",
    "This Python Jupyter notebook provides a simple step by step implementation of the Gassmann fluid substitution equations for porous media.\n",
    "\n",
    "This specific version of the notebook has the following features:\n",
    "- Homogenous saturation estimation \n",
    "- Basic modelling for CO2 replacing water\n",
    "- Parameters based on Groningen Rotliegend averages\n",
    "- Empirical Brie average has also been added for a patchy estimation and can be controlled by the 'e' parameter\n",
    "- Graphical display output\n",
    "- Attribute output to an ascii comma separated variable file. "
   ]
  },
  {
   "cell_type": "markdown",
   "id": "33e8086b",
   "metadata": {},
   "source": [
    "Gassmann Assumptions\n",
    "- Rock is homogenous and isotropic\n",
    "- Pore space is completely connected and saturated\n",
    "- Pore pressures are equilibrated throughout the pore space"
   ]
  },
  {
   "cell_type": "markdown",
   "id": "c2ca67ec",
   "metadata": {},
   "source": [
    "Disclaimer\n",
    "- This is test code\n",
    "- Please report any issues to christopher.willacy@shell.com\n",
    "\n",
    "--------------------------------------------------------------------------------------------------------------------"
   ]
  },
  {
   "cell_type": "code",
   "execution_count": 1,
   "id": "568a8582",
   "metadata": {},
   "outputs": [],
   "source": [
    "import numpy as np\n",
    "import matplotlib.pyplot as plt"
   ]
  },
  {
   "cell_type": "markdown",
   "id": "a414460c",
   "metadata": {},
   "source": [
    "## 1. Start with the measured density and velocities or the rock:"
   ]
  },
  {
   "cell_type": "code",
   "execution_count": 2,
   "id": "2a26dd75",
   "metadata": {},
   "outputs": [],
   "source": [
    "# initial rock conditions\n",
    "Vp = 3.9  # Vp velocity in km/s\n",
    "Vs = 2.286  # Vs velocity in km/s\n",
    "rho = 2.46  # density of reservoir in g/cm3\n",
    "Por = 0.2    # porosity fraction\n",
    "K_min = 36.6 # matrix bulk modulus in GPa (assuming pure quartz matrix for sandstone)\n",
    "Rho_quartz = 2.66 # quartz density g/cm3\n",
    "\n",
    "# initial fluid conditions\n",
    "Swe = 0.0      # gas saturation fraction\n",
    "K_gas = 0.040108       # gas bulk modulus in GPa\n",
    "K_wat = 3.68     # water bulk modulus in GPa\n",
    "rho_gas = 0.41810  # density of gas in g/cm3\n",
    "rho_wat = 1.17  # density of water in g/cm3\n",
    "\n",
    "# power for Brie upper bound.  1 is equal to the Voigt lower bound. \n",
    "e = 1  "
   ]
  },
  {
   "cell_type": "markdown",
   "id": "d846a508",
   "metadata": {},
   "source": [
    "## 2. Extract elastic moduli of the rock:"
   ]
  },
  {
   "cell_type": "markdown",
   "id": "6bbeccfa",
   "metadata": {},
   "source": [
    "## $p = -K \\frac{\\Delta V}{V} $"
   ]
  },
  {
   "cell_type": "markdown",
   "id": "1a81db76",
   "metadata": {},
   "source": [
    "## $K = \\rho_{B}(V_{P}^{2} - \\frac{4}{3}V_{S}^{2}) $"
   ]
  },
  {
   "cell_type": "markdown",
   "id": "a733f856",
   "metadata": {},
   "source": [
    "## $\\tau = \\mu.\\epsilon $"
   ]
  },
  {
   "cell_type": "markdown",
   "id": "25e8a305",
   "metadata": {},
   "source": [
    "## $\\mu = \\rho_{B}V_{S}^{2} $"
   ]
  },
  {
   "cell_type": "code",
   "execution_count": 3,
   "id": "f7cfb4b9",
   "metadata": {},
   "outputs": [],
   "source": [
    "def k_init_moduli(rho,Vp,Vs):\n",
    "    K_init_sat = rho * (Vp**2 - (4/3)*(Vs**2)) # bulk modulus before substitution \n",
    "    mu = rho * Vs**2 # shear modulus \n",
    "    return K_init_sat, mu"
   ]
  },
  {
   "cell_type": "code",
   "execution_count": 4,
   "id": "85c8df1e",
   "metadata": {},
   "outputs": [],
   "source": [
    "calc_moduli = k_init_moduli(rho,Vp,Vs)\n",
    "K_init_sat = calc_moduli[0]\n",
    "mu = calc_moduli[1]"
   ]
  },
  {
   "cell_type": "code",
   "execution_count": 5,
   "id": "d70587df",
   "metadata": {},
   "outputs": [
    {
     "name": "stdout",
     "output_type": "stream",
     "text": [
      "--> Bulk modulus for the initial rock = 20.27598912\n",
      "--> Shear modulus for the initial rock = 12.85545816\n"
     ]
    }
   ],
   "source": [
    "print('--> Bulk modulus for the initial rock =',K_init_sat)\n",
    "print('--> Shear modulus for the initial rock =',mu)"
   ]
  },
  {
   "cell_type": "markdown",
   "id": "61e08c8a",
   "metadata": {},
   "source": [
    "## 3. Compute effective fluid properties:\n",
    "- Bulk modulus and density of the saturating fluid is estimated\n",
    "- May be a mixture of different fluids e.g. water and oil"
   ]
  },
  {
   "cell_type": "markdown",
   "id": "40acd487",
   "metadata": {},
   "source": [
    "## $K_{fl}^{init}=\\frac{1}{\\frac{S_{we}}{K_{wat}}+\\frac{(1-S_{we})}{K_{oil}}}  $"
   ]
  },
  {
   "cell_type": "markdown",
   "id": "da0124bb",
   "metadata": {},
   "source": [
    "## $\\mu=\\rho V_{S}^{2} $"
   ]
  },
  {
   "cell_type": "code",
   "execution_count": 6,
   "id": "3880b7bd",
   "metadata": {},
   "outputs": [],
   "source": [
    "def k_init_fluid(Swe,K_gas,K_wat,rho_gas,rho_wat):\n",
    "    K_init_fluid = 1 / ((Swe/K_gas) + ((1-Swe) / K_wat)) \n",
    "    rho_init_fluid = Swe*rho_gas + (1-Swe)*rho_wat \n",
    "    return K_init_fluid, rho_init_fluid\n",
    "    "
   ]
  },
  {
   "cell_type": "code",
   "execution_count": 7,
   "id": "dd07042c",
   "metadata": {},
   "outputs": [],
   "source": [
    "calc_init_fluid = k_init_fluid(Swe,K_gas,K_wat,rho_gas,rho_wat)\n",
    "K_init_fluid = calc_init_fluid[0]\n",
    "Rho_init_fluid = calc_init_fluid[1]"
   ]
  },
  {
   "cell_type": "code",
   "execution_count": 8,
   "id": "3ceb5fbb",
   "metadata": {},
   "outputs": [
    {
     "name": "stdout",
     "output_type": "stream",
     "text": [
      "--> Bulk modulus for the initial fluid state (GPa) = 3.68\n",
      "--> Shear modulus for th initial fluid state (GPa) = 1.17\n"
     ]
    }
   ],
   "source": [
    "print('--> Bulk modulus for the initial fluid state (GPa) =',K_init_fluid)\n",
    "print('--> Shear modulus for th initial fluid state (GPa) =',Rho_init_fluid)"
   ]
  },
  {
   "cell_type": "markdown",
   "id": "cb4f28c0",
   "metadata": {},
   "source": [
    "## 4. Transform the moduli from the initial fluid saturation to the dry state:\n",
    "- The dry state is the rock without any fluid inside\n",
    "- Low-freqeuncy, drained bulk modulus of the rock\n",
    "- Approximately the bulk modulus of an air-filled rock at standard pressure and temperature"
   ]
  },
  {
   "cell_type": "markdown",
   "id": "cb762f36",
   "metadata": {},
   "source": [
    "## $K_{dry} = \\frac{K_{sat}(\\frac{\\phi.K_{min}}{K_{fl}}+1-\\phi)-K_{min}}{\\frac{\\phi.K_{min}}{K_{fl}}+\\frac{K_{sat}}{K_{min}}-1-\\phi}  $ "
   ]
  },
  {
   "cell_type": "code",
   "execution_count": 9,
   "id": "5b9c4be2",
   "metadata": {},
   "outputs": [],
   "source": [
    "def k_dry(K_init_sat,Por,K_min,K_init_fluid):\n",
    "    K_dry = (K_init_sat * ( ( (Por*K_min) / K_init_fluid) + (1-Por)) - K_min) / \\\n",
    "        ( ( (Por*K_min) / K_init_fluid) + (K_init_sat/K_min) - 1 - Por)\n",
    "    return K_dry"
   ]
  },
  {
   "cell_type": "code",
   "execution_count": 10,
   "id": "fe300a93",
   "metadata": {},
   "outputs": [],
   "source": [
    "K_dry = k_dry(K_init_sat,Por,K_min,K_init_fluid)"
   ]
  },
  {
   "cell_type": "code",
   "execution_count": 11,
   "id": "377be1a5",
   "metadata": {},
   "outputs": [
    {
     "name": "stdout",
     "output_type": "stream",
     "text": [
      "--> Dry bulk modulus of the rock (GPa) = 14.855255008531298\n"
     ]
    }
   ],
   "source": [
    "print('--> Dry bulk modulus of the rock (GPa) =',K_dry)"
   ]
  },
  {
   "cell_type": "markdown",
   "id": "aa7dd746",
   "metadata": {},
   "source": [
    "## 5. Calculate new fluid properties:"
   ]
  },
  {
   "cell_type": "code",
   "execution_count": 12,
   "id": "d57ec716",
   "metadata": {},
   "outputs": [],
   "source": [
    "def new_fluid(Swe,K_gas,K_wat,rho_gas,rho_wat):\n",
    "    K_final_fluid = K_gas\n",
    "    Rho_final_fluid = rho_gas\n",
    "\n",
    "    return K_final_fluid, Rho_final_fluid"
   ]
  },
  {
   "cell_type": "code",
   "execution_count": 13,
   "id": "ee316da1",
   "metadata": {},
   "outputs": [],
   "source": [
    "calc_new_fluid = new_fluid(Swe,K_gas,K_wat,rho_gas,rho_wat)\n",
    "K_final_fluid = calc_new_fluid[0]\n",
    "Rho_final_fluid = calc_new_fluid[1]"
   ]
  },
  {
   "cell_type": "code",
   "execution_count": 14,
   "id": "a4d193d2",
   "metadata": {},
   "outputs": [
    {
     "name": "stdout",
     "output_type": "stream",
     "text": [
      "--> New fluid bulk modulus (GPa) = 0.040108\n",
      "--> New fluid density (g/cm3) = 0.4181\n"
     ]
    }
   ],
   "source": [
    "print('--> New fluid bulk modulus (GPa) =',K_final_fluid)\n",
    "print('--> New fluid density (g/cm3) =',Rho_final_fluid)"
   ]
  },
  {
   "cell_type": "markdown",
   "id": "f39218a0",
   "metadata": {},
   "source": [
    "## 6. Transform from the dry moduli to the new fluid saturated state:"
   ]
  },
  {
   "cell_type": "code",
   "execution_count": 15,
   "id": "5202973a",
   "metadata": {},
   "outputs": [],
   "source": [
    "def k_final_sat(K_dry,K_min,Por,K_final_fluid):\n",
    "    K_final_sat = K_dry + ( (1 - K_dry/K_min)**2 / \\\n",
    "                        ( (Por / K_final_fluid) + ((1 - Por) / K_min) - (K_dry / K_min**2) ) )\n",
    "    return K_final_sat"
   ]
  },
  {
   "cell_type": "code",
   "execution_count": 16,
   "id": "44df239e",
   "metadata": {},
   "outputs": [],
   "source": [
    "K_final_sat = k_final_sat(K_dry,K_min,Por,K_final_fluid)"
   ]
  },
  {
   "cell_type": "code",
   "execution_count": 17,
   "id": "e8fdaafe",
   "metadata": {},
   "outputs": [
    {
     "name": "stdout",
     "output_type": "stream",
     "text": [
      "--> Substituted bulk modulus (GPa) = 14.92588849495806\n"
     ]
    }
   ],
   "source": [
    "print('--> Substituted bulk modulus (GPa) =',K_final_sat)"
   ]
  },
  {
   "cell_type": "markdown",
   "id": "1bb9f459",
   "metadata": {},
   "source": [
    "## 7. Shear modulus is unchanged:"
   ]
  },
  {
   "cell_type": "code",
   "execution_count": 18,
   "id": "20ba46e1",
   "metadata": {},
   "outputs": [],
   "source": [
    "mu = rho * Vs**2 # shear modulus is unchanged according to Gassmann"
   ]
  },
  {
   "cell_type": "code",
   "execution_count": 19,
   "id": "9de3cf86",
   "metadata": {},
   "outputs": [
    {
     "name": "stdout",
     "output_type": "stream",
     "text": [
      "--> Shear modulus after substitution remains the same = 12.85545816\n"
     ]
    }
   ],
   "source": [
    "print('--> Shear modulus after substitution remains the same =',mu)"
   ]
  },
  {
   "cell_type": "markdown",
   "id": "fd47434d",
   "metadata": {},
   "source": [
    "## 8. Transform density:"
   ]
  },
  {
   "cell_type": "code",
   "execution_count": 20,
   "id": "0a9fff4a",
   "metadata": {},
   "outputs": [],
   "source": [
    "def update_density(Rho_quartz,Por,Rho_final_fluid):\n",
    "    Rho_final = Rho_quartz * (1-Por) + Rho_final_fluid * Por\n",
    "    return Rho_final"
   ]
  },
  {
   "cell_type": "code",
   "execution_count": 21,
   "id": "7b9c68bc",
   "metadata": {},
   "outputs": [],
   "source": [
    "Rho_final = update_density(Rho_quartz,Por,Rho_final_fluid)"
   ]
  },
  {
   "cell_type": "code",
   "execution_count": 22,
   "id": "877d8474",
   "metadata": {},
   "outputs": [
    {
     "name": "stdout",
     "output_type": "stream",
     "text": [
      "--> New density = 2.21162\n"
     ]
    }
   ],
   "source": [
    "print('--> New density =',Rho_final)"
   ]
  },
  {
   "cell_type": "markdown",
   "id": "f7b7001f",
   "metadata": {},
   "source": [
    "## 9. Compute the new velocities:"
   ]
  },
  {
   "cell_type": "markdown",
   "id": "115ff5ee",
   "metadata": {},
   "source": [
    "## $V_P = \\sqrt{\\frac{K + \\frac{4}{3}\\mu}{\\rho}} $"
   ]
  },
  {
   "cell_type": "markdown",
   "id": "d72d17b9",
   "metadata": {},
   "source": [
    "## $V_S = \\sqrt{\\frac{\\mu}{\\rho}} $"
   ]
  },
  {
   "cell_type": "code",
   "execution_count": 23,
   "id": "f5d87802",
   "metadata": {},
   "outputs": [],
   "source": [
    "Vs_new = np.sqrt(mu/Rho_final)\n",
    "Vp_new = np.sqrt((K_final_sat + ((4/3)*mu)) / Rho_final)"
   ]
  },
  {
   "cell_type": "code",
   "execution_count": 24,
   "id": "f13fedd3",
   "metadata": {},
   "outputs": [
    {
     "name": "stdout",
     "output_type": "stream",
     "text": [
      "--> New Vs Velocity = 2.410951784850922\n",
      "--> New Vp Velocity = 3.8077683653907806\n"
     ]
    }
   ],
   "source": [
    "print('--> New Vs Velocity =',Vs_new)\n",
    "print('--> New Vp Velocity =',Vp_new)"
   ]
  },
  {
   "cell_type": "markdown",
   "id": "2f103912",
   "metadata": {},
   "source": [
    "## 10. Calculate some additional metrics:"
   ]
  },
  {
   "cell_type": "code",
   "execution_count": 25,
   "id": "e9e9dc19",
   "metadata": {},
   "outputs": [],
   "source": [
    "#----------------------------------------------------------------\n",
    "# calculate P-Wave difference\n",
    "#----------------------------------------------------------------\n",
    "def vpdelta(Vp,Vp_new):\n",
    "    diff = Vp_new - Vp\n",
    "    return np.round(diff, 6)"
   ]
  },
  {
   "cell_type": "code",
   "execution_count": 26,
   "id": "bb1a5308",
   "metadata": {},
   "outputs": [],
   "source": [
    "vp_delta = vpdelta(Vp, Vp_new)"
   ]
  },
  {
   "cell_type": "code",
   "execution_count": 27,
   "id": "a501dec3",
   "metadata": {},
   "outputs": [],
   "source": [
    "#----------------------------------------------------------------\n",
    "# calculate S-Wave difference\n",
    "#----------------------------------------------------------------\n",
    "def vsdelta(Vs,Vs_new):\n",
    "    diff = Vs_new - Vs\n",
    "    return np.round(diff, 6)"
   ]
  },
  {
   "cell_type": "code",
   "execution_count": 28,
   "id": "9e8e7b1e",
   "metadata": {},
   "outputs": [],
   "source": [
    "vs_delta = vsdelta(Vs, Vs_new)"
   ]
  },
  {
   "cell_type": "code",
   "execution_count": 29,
   "id": "5abed711",
   "metadata": {},
   "outputs": [],
   "source": [
    "#----------------------------------------------------------------\n",
    "# calculate percentage change\n",
    "#----------------------------------------------------------------\n",
    "def pchange(x1,x2):\n",
    "    # x1 original value\n",
    "    # x2 new value\n",
    "    C = ((x2-x1)/x1)*100\n",
    "    return np.round(C, 6)"
   ]
  },
  {
   "cell_type": "code",
   "execution_count": 30,
   "id": "7d152407",
   "metadata": {},
   "outputs": [],
   "source": [
    "velp = pchange(Vp,Vp_new)"
   ]
  },
  {
   "cell_type": "code",
   "execution_count": 31,
   "id": "63589e22",
   "metadata": {},
   "outputs": [],
   "source": [
    "#----------------------------------------------------------------\n",
    "# calculate impedance\n",
    "#----------------------------------------------------------------\n",
    "def impedance(vel,den):\n",
    "    imp = vel * den\n",
    "    return np.round(imp, 6)"
   ]
  },
  {
   "cell_type": "code",
   "execution_count": 32,
   "id": "f052d7a2",
   "metadata": {},
   "outputs": [],
   "source": [
    "impedance_before = impedance(Vp,rho)\n",
    "impedance_after = impedance(Vp_new,Rho_final)\n",
    "impedance_delta = np.round(impedance_after - impedance_before,3)"
   ]
  },
  {
   "cell_type": "markdown",
   "id": "643cb89a",
   "metadata": {},
   "source": [
    "## 11.  Results Summary:"
   ]
  },
  {
   "cell_type": "code",
   "execution_count": 33,
   "id": "7816d268",
   "metadata": {},
   "outputs": [
    {
     "name": "stdout",
     "output_type": "stream",
     "text": [
      "--> Vp velocity (km/s) = 3.9 -> 3.8078\n",
      "--> Vs velocity (km/s) = 2.286 -> 2.411\n",
      "--> Vp velocity difference (m/s) = -92.232\n",
      "--> Vs velocity difference (m/s) = 124.952\n",
      "--> Vp velocity change (%) = -2.364914\n",
      "--> Density (g/cm3) = 2.46 -> 2.21162\n",
      "--> Impedance Delta = -1.173\n"
     ]
    }
   ],
   "source": [
    "print('--> Vp velocity (km/s) =',np.round(Vp,4),'->',np.round(Vp_new,4))\n",
    "print('--> Vs velocity (km/s) =',np.round(Vs,4),'->',np.round(Vs_new,4))\n",
    "print('--> Vp velocity difference (m/s) =',np.round(vp_delta*1000,4))\n",
    "print('--> Vs velocity difference (m/s) =',vs_delta*1000)\n",
    "print('--> Vp velocity change (%) =',velp)\n",
    "print('--> Density (g/cm3) =',rho,'->',Rho_final)\n",
    "print('--> Impedance Delta =',impedance_delta)"
   ]
  },
  {
   "cell_type": "markdown",
   "id": "8f37e159",
   "metadata": {},
   "source": [
    "## 12. Loop over workflow and vary the saturation:"
   ]
  },
  {
   "cell_type": "code",
   "execution_count": 34,
   "id": "ef86ff3f",
   "metadata": {},
   "outputs": [],
   "source": [
    "def new_fluid_vary(Swe,K_gas,K_wat,rho_gas,rho_wat):\n",
    "    K_final_fluid = 1 / ((Swe/K_gas) + ((1-Swe) / K_wat))    \n",
    "    Rho_final_fluid = Swe*rho_gas + (1-Swe)*rho_wat \n",
    "    return K_final_fluid, Rho_final_fluid"
   ]
  },
  {
   "cell_type": "code",
   "execution_count": 35,
   "id": "9d1ba655",
   "metadata": {},
   "outputs": [],
   "source": [
    "def brie_fluid_vary(Swe,K_gas,K_wat,e):\n",
    "    K_brie_fluid = (K_wat - K_gas) * (1 - Swe)**e + K_gas    \n",
    "    return K_brie_fluid"
   ]
  },
  {
   "cell_type": "code",
   "execution_count": 36,
   "id": "6b8c4189",
   "metadata": {},
   "outputs": [],
   "source": [
    "x = []\n",
    "y = []\n",
    "y2 = []\n",
    "y3 = []\n",
    "y4 = []\n",
    "y5 = []\n",
    "y6 = []\n",
    "y7 = []\n",
    "y8 = []\n",
    "y9 = []\n",
    "y10 = []\n",
    "vp_start = 0\n",
    "rho_start = 0\n",
    "\n",
    "for i in range (0,101,1):\n",
    "   \n",
    "    # water saturation fraction \n",
    "    Swe = i * 0.01  \n",
    "    \n",
    "    # calculate the new fluid properties\n",
    "    calc_new_fluid = new_fluid_vary(Swe,K_gas,K_wat,rho_gas,rho_wat)\n",
    "    K_final_fluid = calc_new_fluid[0]\n",
    "    Rho_final_fluid = calc_new_fluid[1]\n",
    "    brie_fluid = brie_fluid_vary(Swe,K_gas,K_wat,e)\n",
    "    \n",
    "    # calculate the final modulus after substitution\n",
    "    K_final_sat = k_final_sat(K_dry,K_min,Por,K_final_fluid)   \n",
    "    K_final_brie_sat = k_final_sat(K_dry,K_min,Por,brie_fluid)\n",
    "    \n",
    "    # update the density with the new fluid change\n",
    "    Rho_final = update_density(Rho_quartz,Por,Rho_final_fluid)\n",
    "    \n",
    "    # calculate the new velocities\n",
    "    Vs_new = np.sqrt(mu/Rho_final)\n",
    "    Vp_new = np.sqrt((K_final_sat + ((4/3)*mu)) / Rho_final)\n",
    "    Vp_brie_new = np.sqrt((K_final_brie_sat + ((4/3)*mu)) / Rho_final)\n",
    "    vp_delta = vpdelta(Vp, Vp_new)\n",
    "    \n",
    "    # calculate impedance change from orginal rock        \n",
    "    if i == 0:\n",
    "        vp_start=Vp_new\n",
    "        rho_start=Rho_final\n",
    "        \n",
    "    impedance_before = impedance(vp_start,rho_start)   \n",
    "    impedance_after = impedance(Vp_new,Rho_final)\n",
    "    impedance_after_brie = impedance(Vp_brie_new,Rho_final)\n",
    "    \n",
    "    #impedance_delta = np.round(impedance_after - impedance_before,3)    \n",
    "    impedance_delta = pchange(impedance_before,impedance_after)\n",
    "    impedance_delta_brie = pchange(impedance_before,impedance_after_brie)\n",
    "    \n",
    "    x.append(Swe*100)\n",
    "    #y.append(np.round(Vp_new*1000,6)) \n",
    "\n",
    "    y.append(Vp_new)\n",
    "    #y2.append(np.round(Vs_new*1000,6))\n",
    "    y2.append(Vs_new)\n",
    "    y3.append(Rho_final)\n",
    "    y4.append(impedance_delta)\n",
    "    y5.append(Vp_brie_new)\n",
    "    y6.append(Rho_final_fluid)\n",
    "    y7.append(K_final_fluid)\n",
    "    y8.append(K_final_sat)\n",
    "    y9.append(mu) \n",
    "    y10.append(impedance_delta_brie)"
   ]
  },
  {
   "cell_type": "markdown",
   "id": "5338264f",
   "metadata": {},
   "source": [
    "### Display results"
   ]
  },
  {
   "cell_type": "code",
   "execution_count": 37,
   "id": "332953a8",
   "metadata": {},
   "outputs": [
    {
     "data": {
      "image/png": "[encoded data removed]",
      "text/plain": [
       "<Figure size 720x864 with 8 Axes>"
      ]
     },
     "metadata": {
      "needs_background": "light"
     },
     "output_type": "display_data"
    }
   ],
   "source": [
    "fig, axs = plt.subplots(4, 2, figsize=(10,12))\n",
    "\n",
    "axs[0, 0].plot(x, y7, 'tab:brown')\n",
    "axs[0, 0].set_title('Fluid Bulk Modulus', fontsize=12)\n",
    "axs[0, 0].set_ylabel(r'Bulk Modulus (GPa)', fontsize=12)\n",
    "axs[0, 0].grid(True)\n",
    "\n",
    "axs[0, 1].plot(x, y8, 'tab:pink')\n",
    "axs[0, 1].set_title('Rock Bulk Modulus', fontsize=12)\n",
    "axs[0, 1].set_ylabel(r'Bulk Modulus (GPa)', fontsize=12)\n",
    "axs[0, 1].grid(True)\n",
    "\n",
    "axs[1, 0].plot(x, y6, 'tab:orange')\n",
    "axs[1, 0].set_title('Fluid Density', fontsize=12)\n",
    "axs[1, 0].set_ylabel(r'Density ($g/cm^3$)', fontsize=12)\n",
    "#axs[1, 0].set_ylim(0.0,1.2)\n",
    "axs[1, 0].grid(True)\n",
    "\n",
    "axs[1, 1].plot(x, y3, 'tab:green')\n",
    "axs[1, 1].set_title('Reservoir Density', fontsize=12)\n",
    "axs[1, 1].set_ylabel(r'Density ($g/cm^3$)', fontsize=12)\n",
    "#axs[1, 1].set_ylim(2.0,2.4)\n",
    "axs[1, 1].grid(True)\n",
    "\n",
    "axs[2, 0].plot(x, y, 'tab:red', label=r'$CO_2$')\n",
    "axs[2, 0].plot(x, y5, color='red', label=r'$CO_2$ patchy', linestyle=':')\n",
    "axs[2, 0].set_title('P-Wave Velocity', fontsize=12)\n",
    "axs[2, 0].set_ylabel('Velocity (km/s)', fontsize=12)\n",
    "#axs[2, 0].set_ylim(3.8,4.1)\n",
    "axs[2, 0].grid(True)\n",
    "axs[2, 0].legend()\n",
    "\n",
    "axs[2, 1].plot(x, y2, 'tab:blue')\n",
    "axs[2, 1].set_title('S-Wave Velocity', fontsize=12)\n",
    "axs[2, 1].set_ylabel('Velocity (km/s)', fontsize=12)\n",
    "#axs[2, 1].set_ylim(1,3)\n",
    "axs[2, 1].grid(True)\n",
    "\n",
    "axs[3, 0].plot(x, y9, 'tab:cyan')\n",
    "axs[3, 0].set_title('Rock Shear Modulus', fontsize=12)\n",
    "axs[3, 0].set_xlabel(r'$CO_2$ Saturation (%)', fontsize=12)\n",
    "axs[3, 0].set_ylabel(r'Bulk Modulus (GPa)', fontsize=12)\n",
    "axs[3, 0].grid(True)\n",
    "\n",
    "axs[3, 1].plot(x, y4, 'tab:purple')\n",
    "axs[3, 1].plot(x, y10, color='purple', label=r'$CO_2$ patchy', linestyle=':')\n",
    "axs[3, 1].set_title('P-Impedance Change', fontsize=12)\n",
    "axs[3, 1].set_xlabel(r'$CO_2$ Saturation (%)', fontsize=12)\n",
    "axs[3, 1].set_ylabel('Impedance Delta (%)', fontsize=12)\n",
    "#axs[3, 1].set_ylim(-15,0)\n",
    "axs[3, 1].grid(True)\n",
    "\n",
    "\n",
    "fig.tight_layout()"
   ]
  },
  {
   "cell_type": "markdown",
   "id": "03ed4174",
   "metadata": {},
   "source": [
    "### Output some of the key values to a comma separated ascii file"
   ]
  },
  {
   "cell_type": "code",
   "execution_count": 38,
   "id": "58a94d75",
   "metadata": {},
   "outputs": [],
   "source": [
    "f = open('gassman_output.csv', 'w')\n",
    "\n",
    "length = len(x)\n",
    "\n",
    "for i in range(0,length,1):\n",
    "    \n",
    "    f.write('{0:12.3f},{1:12.3f},{2:12.3f},{3:12.6f},{4:12.6f},{5:12.3f}\\n'.format(x[i],y[i],y2[i],y3[i],y4[i],y5[i]))\n",
    "                         \n",
    "f.close() #close file"
   ]
  },
  {
   "cell_type": "markdown",
   "id": "0708e110",
   "metadata": {},
   "source": [
    "## References"
   ]
  },
  {
   "cell_type": "markdown",
   "id": "1986f992",
   "metadata": {},
   "source": [
    "Batzle, M. and Z. Wang, 1992, Seismic properties of pore fluids. Geophysics, vol. 57, no. 11, p1396 - 1408.\n",
    "\n",
    "Lys, P. O., 2016, EAGE E-Lecture.  \n",
    "\n",
    "Moradi, S. and D. C. Lawton, 2013, Time-lapse seismic modeling of CO2 sequestration at Quest CCS project. Geoconvention: Integration.\n",
    "\n",
    "Simm, R., 2007, Practical Gassmann fluid substitution in sand/shale sequences. First Break, vol. 25.  Smith, T. M., C. H.  \n",
    "\n",
    "Sodagar, T. M. and D. C. Lawton, 2011, Seismic modeling of CO2 fluid substitution for the Heartland Area Redwater CO2 Storage Project (HARP), Alberta, Canada. Energy Procedia, 4, p3338-3345.  \n",
    "\n",
    "Sondergeld and C. S. Rai, 2003, Gassman fluid substitutions: A tutorial.  GEOPHYSICS, vol. 68, No. 2, p. 430-440, 10.1190/1.1567211."
   ]
  },
  {
   "cell_type": "markdown",
   "id": "3ac658f8",
   "metadata": {},
   "source": [
    "## Author"
   ]
  },
  {
   "cell_type": "markdown",
   "id": "8ae82d80",
   "metadata": {},
   "source": [
    "Chris Willacy SUKEP-UPV/S/EP - christopher.willacy@shell.com"
   ]
  }
 ],
 "metadata": {
  "kernelspec": {
   "display_name": "Python 3 (ipykernel)",
   "language": "python",
   "name": "python3"
  },
  "language_info": {
   "codemirror_mode": {
    "name": "ipython",
    "version": 3
   },
   "file_extension": ".py",
   "mimetype": "text/x-python",
   "name": "python",
   "nbconvert_exporter": "python",
   "pygments_lexer": "ipython3",
   "version": "3.9.7"
  }
 },
 "nbformat": 4,
 "nbformat_minor": 5
}
